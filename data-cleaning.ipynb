{
 "cells": [
  {
   "cell_type": "markdown",
   "metadata": {},
   "source": [
    "# Data Cleaning and Preparation"
   ]
  },
  {
   "cell_type": "markdown",
   "metadata": {},
   "source": [
    "### Import libraries"
   ]
  },
  {
   "cell_type": "code",
   "execution_count": 80,
   "metadata": {},
   "outputs": [],
   "source": [
    "import os\n",
    "import numpy as np\n",
    "import pandas as pd\n",
    "import shapely as shapely\n",
    "import geopandas as gpd"
   ]
  },
  {
   "cell_type": "markdown",
   "metadata": {},
   "source": [
    "### Load Data and Keep Relevant Columns"
   ]
  },
  {
   "cell_type": "code",
   "execution_count": 94,
   "metadata": {},
   "outputs": [],
   "source": [
    "claims_data_file = 'FimaNfipClaims.parquet' #claims data file\n",
    "metadata_file = 'fima-claims-metadata.csv' #metadata file\n",
    "\n",
    "# Read metadata to select the features to use\n",
    "metadata = pd.read_csv(metadata_file)\n",
    "cols = metadata[metadata['Used in Model'] == 1]['Name'].tolist()"
   ]
  },
  {
   "cell_type": "markdown",
   "metadata": {},
   "source": [
    "#### Keep useful features for Harris County (FIPS = 48201)"
   ]
  },
  {
   "cell_type": "code",
   "execution_count": 95,
   "metadata": {},
   "outputs": [],
   "source": [
    "# Load the claims data and retain the selected features\n",
    "claims = pd.read_parquet(claims_data_file, columns = cols)\n",
    "claims = claims[claims['countyCode'] == '48201'].copy().drop(columns = 'countyCode') #Harris county"
   ]
  },
  {
   "cell_type": "markdown",
   "metadata": {},
   "source": [
    "#### Check features with most missing values "
   ]
  },
  {
   "cell_type": "code",
   "execution_count": 96,
   "metadata": {},
   "outputs": [
    {
     "data": {
      "text/plain": [
       "floodCharacteristicsIndicator         98.811421\n",
       "lowestFloorElevation                  81.458397\n",
       "elevationDifference                   80.087049\n",
       "basementEnclosureCrawlspaceType       79.918340\n",
       "floodZoneCurrent                      57.590740\n",
       "nfipCommunityName                     57.238091\n",
       "buildingDescriptionCode               54.244089\n",
       "locationOfContents                    24.642079\n",
       "buildingDamageAmount                  18.420929\n",
       "buildingPropertyValue                 18.420929\n",
       "floodEvent                            13.324507\n",
       "waterDepth                             6.625349\n",
       "floodWaterDuration                     4.037303\n",
       "ratedFloodZone                         2.048527\n",
       "causeOfDamage                          1.798978\n",
       "numberOfFloorsInTheInsuredBuilding     0.603369\n",
       "occupancyType                          0.012302\n",
       "originalConstructionDate               0.002343\n",
       "latitude                               0.000000\n",
       "reportedCity                           0.000000\n",
       "longitude                              0.000000\n",
       "reportedZipCode                        0.000000\n",
       "floodproofedIndicator                  0.000000\n",
       "state                                  0.000000\n",
       "elevatedBuildingIndicator              0.000000\n",
       "yearOfLoss                             0.000000\n",
       "id                                     0.000000\n",
       "dtype: float64"
      ]
     },
     "execution_count": 96,
     "metadata": {},
     "output_type": "execute_result"
    }
   ],
   "source": [
    "# Percentage of missing values\n",
    "claims.isnull().sum().sort_values(ascending=False)/len(claims)*100"
   ]
  },
  {
   "cell_type": "markdown",
   "metadata": {},
   "source": [
    "#### Keep columns with missing values < 60%"
   ]
  },
  {
   "cell_type": "code",
   "execution_count": null,
   "metadata": {},
   "outputs": [
    {
     "data": {
      "text/plain": [
       "['elevatedBuildingIndicator',\n",
       " 'ratedFloodZone',\n",
       " 'locationOfContents',\n",
       " 'numberOfFloorsInTheInsuredBuilding',\n",
       " 'occupancyType',\n",
       " 'originalConstructionDate',\n",
       " 'yearOfLoss',\n",
       " 'buildingDamageAmount',\n",
       " 'buildingPropertyValue',\n",
       " 'causeOfDamage',\n",
       " 'floodWaterDuration',\n",
       " 'floodproofedIndicator',\n",
       " 'floodEvent',\n",
       " 'waterDepth',\n",
       " 'state',\n",
       " 'reportedCity',\n",
       " 'reportedZipCode',\n",
       " 'latitude',\n",
       " 'longitude',\n",
       " 'id']"
      ]
     },
     "execution_count": 97,
     "metadata": {},
     "output_type": "execute_result"
    }
   ],
   "source": [
    "keep_cols = [col for col in claims.columns if claims[col].isnull().sum() < 0.6*len(claims)]\n",
    "claims = claims[keep_cols].copy()\n",
    "keep_cols"
   ]
  },
  {
   "cell_type": "markdown",
   "metadata": {},
   "source": [
    "### Create derived features"
   ]
  },
  {
   "cell_type": "markdown",
   "metadata": {},
   "source": [
    "#### Clean Original Construction Data"
   ]
  },
  {
   "cell_type": "code",
   "execution_count": 98,
   "metadata": {},
   "outputs": [],
   "source": [
    "# Convert originalConstructionDate to year except for None values\n",
    "claims['originalConstructionDate'] = (claims['originalConstructionDate']\n",
    "                                      .apply(lambda x: x.year if x is not None else x))\n",
    "# Fill None values with median construction date\n",
    "median_construction_date = claims['originalConstructionDate'].median()\n",
    "claims['originalConstructionDate'] = pd.to_numeric(claims['originalConstructionDate']\n",
    "                                      .fillna(median_construction_date)\n",
    "                                      )"
   ]
  },
  {
   "cell_type": "markdown",
   "metadata": {},
   "source": [
    "#### Derive building age"
   ]
  },
  {
   "cell_type": "code",
   "execution_count": 105,
   "metadata": {},
   "outputs": [],
   "source": [
    "claims[\"buildingAgeAtLoss\"] = claims['yearOfLoss'] - claims['originalConstructionDate']\n",
    "claims['buildingAgeAtLoss'] = claims['buildingAgeAtLoss'].clip(lower=1)"
   ]
  },
  {
   "cell_type": "code",
   "execution_count": null,
   "metadata": {},
   "outputs": [],
   "source": []
  }
 ],
 "metadata": {
  "kernelspec": {
   "display_name": "buildings",
   "language": "python",
   "name": "python3"
  },
  "language_info": {
   "codemirror_mode": {
    "name": "ipython",
    "version": 3
   },
   "file_extension": ".py",
   "mimetype": "text/x-python",
   "name": "python",
   "nbconvert_exporter": "python",
   "pygments_lexer": "ipython3",
   "version": "3.11.9"
  }
 },
 "nbformat": 4,
 "nbformat_minor": 2
}
